{
 "cells": [
  {
   "cell_type": "code",
   "execution_count": 2,
   "metadata": {},
   "outputs": [],
   "source": [
    "import cv2 ,numpy\n",
    "import face_recognition\n",
    "\n",
    "img=face_recognition.load_image_file('input/michelle_test.jpg')\n",
    "test=face_recognition.load_image_file('input/viola.jpg')\n",
    "img=cv2.cvtColor(img,cv2.COLOR_BGR2RGB)\n",
    "test=cv2.cvtColor(test,cv2.COLOR_BGR2RGB)\n",
    "facLoc=face_recognition.face_locations(img)\n",
    "y1,x2,y2,x1=facLoc[0]\n",
    "cv2.rectangle(img,(x1,y1),(x2,y2),(255,0,255),2)\n",
    "facLocTest=face_recognition.face_locations(test)\n",
    "encoding=face_recognition.face_encodings(img,facLoc)\n",
    "encodingTest=face_recognition.face_encodings(test)[0]\n",
    "result=face_recognition.compare_faces([encoding[0]],encodingTest)\n",
    "faceDis=face_recognition.face_distance([encoding[0]],encodingTest)\n",
    "cv2.putText(img,\"michelle\",(x1+4,y1+6),cv2.FONT_HERSHEY_SIMPLEX,1,(255,0,255),2)\n",
    "print(faceDis)\n",
    "cv2.imshow('michelle',img)\n"
   ]
  },
  {
   "cell_type": "code",
   "execution_count": 4,
   "metadata": {},
   "outputs": [
    {
     "name": "stdout",
     "output_type": "stream",
     "text": [
      "[False]\n"
     ]
    }
   ],
   "source": [
    "\n",
    "    \n",
    " \n",
    "\n"
   ]
  },
  {
   "cell_type": "code",
   "execution_count": null,
   "metadata": {},
   "outputs": [],
   "source": []
  },
  {
   "cell_type": "code",
   "execution_count": null,
   "metadata": {},
   "outputs": [],
   "source": []
  }
 ],
 "metadata": {
  "kernelspec": {
   "display_name": "Python 3",
   "language": "python",
   "name": "python3"
  },
  "language_info": {
   "codemirror_mode": {
    "name": "ipython",
    "version": 3
   },
   "file_extension": ".py",
   "mimetype": "text/x-python",
   "name": "python",
   "nbconvert_exporter": "python",
   "pygments_lexer": "ipython3",
   "version": "3.8.5"
  }
 },
 "nbformat": 4,
 "nbformat_minor": 4
}
